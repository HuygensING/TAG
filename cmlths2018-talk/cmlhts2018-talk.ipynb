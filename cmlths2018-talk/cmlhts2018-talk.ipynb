{
 "cells": [
  {
   "cell_type": "markdown",
   "metadata": {
    "slideshow": {
     "slide_type": "slide"
    }
   },
   "source": [
    "# Perspectives on Text\n",
    "## _Synthesizing knowledge through markup_\n",
    "#### Elli Bleeker, Bram Buitendijk, Ronald Haentjens Dekker, Astrid Kulsdom\n",
    "#### _R&D Digital Infrastructure - KNAW_"
   ]
  },
  {
   "cell_type": "markdown",
   "metadata": {
    "slideshow": {
     "slide_type": "subslide"
    }
   },
   "source": [
    "### Markup\n",
    " Expectations, challenges  \n",
    " Requirements\n",
    "### Method\n",
    "   Implementation: TAGML  \n",
    "   Workflow    \n",
    "### Conclusion\n",
    "### Discussion"
   ]
  },
  {
   "cell_type": "markdown",
   "metadata": {
    "slideshow": {
     "slide_type": "slide"
    }
   },
   "source": [
    "# What is text?\n",
    "\n",
    "A multilayered, non-linear object containing information which is at times ordered, partially ordered, or unordered"
   ]
  },
  {
   "cell_type": "markdown",
   "metadata": {
    "slideshow": {
     "slide_type": "slide"
    }
   },
   "source": [
    "# Markup challenges\n",
    "\n",
    "\n"
   ]
  },
  {
   "cell_type": "markdown",
   "metadata": {
    "slideshow": {
     "slide_type": "fragment"
    }
   },
   "source": [
    "<div class=\"quote\">\"Most texts are made for a special use in a specific context for a limited group of people\"</div><br/><div class=\"source\">(Hillesund 2005)</div>"
   ]
  },
  {
   "cell_type": "markdown",
   "metadata": {
    "slideshow": {
     "slide_type": "fragment"
    }
   },
   "source": [
    "<div class=\"quote\">\"A transcription at its most basic is mediated or subject to mediation\"</div> <br/><div class=\"source\">(Shillingsburg 2014)</div>"
   ]
  },
  {
   "cell_type": "markdown",
   "metadata": {
    "slideshow": {
     "slide_type": "fragment"
    }
   },
   "source": [
    "Logical structure vs. document structure "
   ]
  },
  {
   "cell_type": "markdown",
   "metadata": {
    "slideshow": {
     "slide_type": "slide"
    }
   },
   "source": [
    "# Examples \n",
    "\n",
    "- Overlapping structures  \n",
    "- Discontinuous elements  \n",
    "- Non-linear elements"
   ]
  },
  {
   "cell_type": "markdown",
   "metadata": {
    "slideshow": {
     "slide_type": "subslide"
    }
   },
   "source": [
    "# Overlapping structures\n",
    "<img src=\"images/Selection-21v.png\">\n",
    "<img src=\"images/Selection-22v.png\">"
   ]
  },
  {
   "cell_type": "markdown",
   "metadata": {
    "slideshow": {
     "slide_type": "subslide"
    }
   },
   "source": [
    "# Discontinuous elements\n",
    "<img width=\"300\" height=\"300\" src=\"images/order.jpg\">\n",
    "\n"
   ]
  },
  {
   "cell_type": "markdown",
   "metadata": {
    "slideshow": {
     "slide_type": "subslide"
    }
   },
   "source": [
    "# Non-linear structures\n",
    "\n",
    "```\n",
    "<s>through shrieks of <sic>slaugter</sic><corr>slaughter</corr></s>\n",
    "```"
   ]
  },
  {
   "cell_type": "markdown",
   "metadata": {
    "slideshow": {
     "slide_type": "fragment"
    }
   },
   "source": [
    "<img align=\"left\" width=\"300\" height=\"300\" src=\"images/order1a.png\">\n",
    "<img align=\"right\" width=\"300\" height=\"300\" src=\"images/order1b.png\">"
   ]
  },
  {
   "cell_type": "markdown",
   "metadata": {
    "slideshow": {
     "slide_type": "slide"
    }
   },
   "source": [
    "# Summary\n",
    "\n",
    "1. Overlap\n",
    "2. Discontinuity\n",
    "3. Non-linearity\n",
    "4. Compatible  \n",
    "    a. Interoperable  \n",
    "    b. Reusable\n",
    "    \n",
    "\"Natural\" or idiomatic: the model needs to be close to our understanding of text"
   ]
  },
  {
   "cell_type": "markdown",
   "metadata": {
    "slideshow": {
     "slide_type": "slide"
    }
   },
   "source": [
    "# Method\n",
    "A \"shared conception of digital editing\" (Hajo 2010) is abandoned in favor of idiosyncratic approaches  \n"
   ]
  },
  {
   "cell_type": "markdown",
   "metadata": {
    "slideshow": {
     "slide_type": "fragment"
    }
   },
   "source": [
    "Editors apply markup from a certain perspective on the text: they reify their notions and assumptions."
   ]
  },
  {
   "cell_type": "markdown",
   "metadata": {
    "slideshow": {
     "slide_type": "subslide"
    }
   },
   "source": [
    "\"Analytical perspectives on text\" (Renear _et al_. 1993):\n",
    "\n",
    "- dramatic:\n",
    "- prosodic:\n",
    "- syntactic: \n",
    "- etc..."
   ]
  },
  {
   "cell_type": "markdown",
   "metadata": {
    "slideshow": {
     "slide_type": "subslide"
    }
   },
   "source": [
    "A strict formal observation and with it a description of a text is a **physical impossibility** (cf. Erwin Panofsky)"
   ]
  },
  {
   "cell_type": "markdown",
   "metadata": {
    "slideshow": {
     "slide_type": "notes"
    }
   },
   "source": [
    "However markup is not only applied to describe (an interpretation of) a text. In addition to an intellectual, abstract intention it is also applied with a practical intention: to ensure that transcription is processable by software."
   ]
  },
  {
   "cell_type": "markdown",
   "metadata": {
    "slideshow": {
     "slide_type": "notes"
    }
   },
   "source": [
    "So, in summary we can say the following of markup:"
   ]
  },
  {
   "cell_type": "markdown",
   "metadata": {
    "slideshow": {
     "slide_type": "slide"
    }
   },
   "source": [
    "# Markup allows us to ...\n",
    "### ... formally describe our interpretation of text "
   ]
  },
  {
   "cell_type": "markdown",
   "metadata": {
    "slideshow": {
     "slide_type": "fragment"
    }
   },
   "source": [
    "### ... create transcriptions that can be processed by software"
   ]
  },
  {
   "cell_type": "markdown",
   "metadata": {
    "slideshow": {
     "slide_type": "fragment"
    }
   },
   "source": [
    "### ... reify our assumptions about the best ways to describe textual features"
   ]
  },
  {
   "cell_type": "markdown",
   "metadata": {
    "slideshow": {
     "slide_type": "notes"
    }
   },
   "source": [
    "Markup is a powerful technology. But:"
   ]
  },
  {
   "cell_type": "markdown",
   "metadata": {
    "slideshow": {
     "slide_type": "subslide"
    }
   },
   "source": [
    "\n",
    "# With great power comes great responsibilities.\n"
   ]
  },
  {
   "cell_type": "markdown",
   "metadata": {
    "slideshow": {
     "slide_type": "notes"
    }
   },
   "source": [
    "To give just one, simple yet important example: it is not just a matter of identifying and tagging textual features. One also has to take into account how these features may be processed and addressed in later stages. Often, the more complexity you add to your model, the more complex algorithmic operations needed to process it.   "
   ]
  },
  {
   "cell_type": "markdown",
   "metadata": {
    "slideshow": {
     "slide_type": "notes"
    }
   },
   "source": [
    "Most digital scholarly editors have been trained to work with the TEI model and with good reason. The TEI is established over several decades by a large community of textual scholars, and can therefore account for an accumulation of scholarly knowledge. Still, it is worthwhile to remain critical and to continue to probe existing models."
   ]
  },
  {
   "cell_type": "markdown",
   "metadata": {
    "slideshow": {
     "slide_type": "subslide"
    }
   },
   "source": [
    "The affordances and limitations of a textual model influence our understanding of text (cf. Sahle 2013)"
   ]
  },
  {
   "cell_type": "markdown",
   "metadata": {
    "slideshow": {
     "slide_type": "notes"
    }
   },
   "source": [
    "So what happens if we step outside the framework we've all come know, and start all over again? What if we're no longer compelled to think in terms of monohierarchical structures when modeling text and instead take as point departure a model that provides *native* support for multiple hierarchies, without complicated hacks and workarounds? How would we then markup a text? \n",
    "\n",
    "Over the past months we've been working on a markup language for an advanced model of text. The technological possibilities offered by this model also prompt novelintellectual questions, some of which I'll discuss today."
   ]
  },
  {
   "cell_type": "markdown",
   "metadata": {
    "slideshow": {
     "slide_type": "slide"
    }
   },
   "source": [
    "# TAGML\n",
    "Markup language of Text-as-Graph (TAG) model  \n",
    "\n",
    "Follows the definition of text as a _non-linear and multilayered information object_."
   ]
  },
  {
   "cell_type": "markdown",
   "metadata": {
    "slideshow": {
     "slide_type": "subslide"
    }
   },
   "source": [
    "A TAGML file can have multiple **layers**.  \n",
    "\n",
    "A layer is a set of markup nodes. A layer is hierarchical."
   ]
  },
  {
   "cell_type": "markdown",
   "metadata": {
    "slideshow": {
     "slide_type": "notes"
    }
   },
   "source": [
    "How does that help us? Although all editing efforts need to start with a formal description of the method and the underlying model of text, editors will rarely stick to one of the analytical perspectives outlined by Allen Renear _et al_. Let's go back to the overlap-example I showed previously. Imagine transcribing the poetic structure of the text on this document fragment."
   ]
  },
  {
   "cell_type": "markdown",
   "metadata": {
    "slideshow": {
     "slide_type": "slide"
    }
   },
   "source": [
    "<img src=\"images/Selection-21v.png\">\n",
    "<img src=\"images/Selection-22v.png\">"
   ]
  },
  {
   "cell_type": "markdown",
   "metadata": {
    "slideshow": {
     "slide_type": "subslide"
    }
   },
   "source": [
    "```\n",
    "[tagml>\n",
    "     [poem>\n",
    "      [speaker who=\"springs\">2d. Voice from the Springs<speaker]\n",
    "          [sp>\n",
    "          [l>Thunderbolts had parched our water<l]\n",
    "          [l>We had been stained with bitter blood<l]\n",
    "          [l>And had ran mute 'mid shrieks of slaughter<l]\n",
    "          [l>Thro' a city & a solitude!<l]\n",
    "          <sp]\n",
    "      <poem]\n",
    " <tagml]```"
   ]
  },
  {
   "cell_type": "markdown",
   "metadata": {
    "slideshow": {
     "slide_type": "subslide"
    }
   },
   "source": [
    "```\n",
    "[tagml>\n",
    "    [page n=\"21v\">\n",
    "    ...\n",
    "      [p>\n",
    "        [line>2d. Voice from the Springs<line]\n",
    "        [line>Thunderbolts had parched our water<line]\n",
    "        [line>We had been stained with bitter blood<line]\n",
    "      <p]\n",
    "    <page]\n",
    "    [page n\"22v>\n",
    "      [p>\n",
    "        [line>And had ran mute 'mid shrieks of <|[sic>slaugter<sic]|[corr>slaughter<corr]|><line]\n",
    "        [line>Thro' a city & a solitude!<line]\n",
    "      <p]\n",
    "     ...\n",
    "    <page]\n",
    "<tagml]\n",
    "```\n",
    "        "
   ]
  },
  {
   "cell_type": "markdown",
   "metadata": {
    "slideshow": {
     "slide_type": "notes"
    }
   },
   "source": [
    "Let's take a closer look at that last transcription. One could argue that the paragraph isn't really \"closed\", it just needs to be closed to avoid overlap with the page element. If that weren't necessary, the transcription may look like this:"
   ]
  },
  {
   "cell_type": "markdown",
   "metadata": {
    "slideshow": {
     "slide_type": "notes"
    }
   },
   "source": [
    "(In the following transcripton has been stripped of most tags for readability)"
   ]
  },
  {
   "cell_type": "markdown",
   "metadata": {
    "slideshow": {
     "slide_type": "subslide"
    }
   },
   "source": [
    "```\n",
    "[page>  \n",
    "    [p>\n",
    "      [line>2d. Voice from the Springs<line]\n",
    "      [line>Thunderbolts had parched our water<line]\n",
    "      [line>We had been stained with bitter blood<line]\n",
    "    <page]\n",
    "    [page>\n",
    "      [line>And had ran mute 'mid shrieks of slaugter<line]\n",
    "      [line>Thro' a city and a multitude!<line]\n",
    "    <p]\n",
    "<page]\n",
    "```\n"
   ]
  },
  {
   "cell_type": "markdown",
   "metadata": {
    "slideshow": {
     "slide_type": "notes"
    }
   },
   "source": [
    "The moment structures overlap, the user can create a layer. A layer can be created locally. The layers may be given any name; in this example they are simply referred to as layer A and layer B."
   ]
  },
  {
   "cell_type": "markdown",
   "metadata": {
    "slideshow": {
     "slide_type": "subslide"
    }
   },
   "source": [
    "```\n",
    "[page|+A>  \n",
    "    [p|+B>\n",
    "      [line>2d. Voice from the Springs<line]\n",
    "      [line>Thunderbolts had parched our water<line]\n",
    "      [line>We had been stained with bitter blood<line]\n",
    "    <page|A]\n",
    "    [page|A>\n",
    "      [line>And had ran mute 'mid shrieks of slaughter<line]\n",
    "      [line>Thro' a city and a multitude!<line]\n",
    "    <p|B]\n",
    "<page|A]\n",
    "```"
   ]
  },
  {
   "cell_type": "markdown",
   "metadata": {
    "slideshow": {
     "slide_type": "notes"
    }
   },
   "source": [
    "Managing TAGML files with multiple layers is done in a repository called _Alexandria_ which stores the TAGM files. \n",
    "The workflow is similar to that of Git.\n",
    "\n",
    "Let's return to the examples I just showed, and let's imagine that the markup is added not by one, but by two editors. We'll name them A and B, or to make it more realistic, Astrid and Bram."
   ]
  },
  {
   "cell_type": "markdown",
   "metadata": {
    "slideshow": {
     "slide_type": "slide"
    }
   },
   "source": [
    "## Astrid\n",
    "```\n",
    "[page>\n",
    "[p>\n",
    "[line>2d. Voice from the Springs<line]\n",
    "[line>Thrice three hundred thousand years<line]\n",
    "[line>We had been stained with bitter blood<line]\n",
    "<p]\n",
    "<page]\n",
    "[page>\n",
    "[p>\n",
    "[line>And had ran mute 'mid shrieks of slaughter<line]\n",
    "[line>Thro' a city and a multitude<line]\n",
    "<p]\n",
    "<page]\n",
    "```"
   ]
  },
  {
   "cell_type": "markdown",
   "metadata": {
    "slideshow": {
     "slide_type": "slide"
    }
   },
   "source": [
    "## Bram\n",
    "```\n",
    "[page|+A>\n",
    "[p|+B>\n",
    "[l>2d. Voice from the Springs<l]\n",
    "[l>Thrice three hundred thousand years<l]\n",
    "[l>We had been stained with bitter blood<l]\n",
    "<page|A]\n",
    "[page|A>\n",
    "[l>And had ran mute 'mid shrieks of slaughter<l]\n",
    "[l>Thro' a city & a multitude<l]\n",
    "<p|B]\n",
    "<page|A]\n",
    "```\n"
   ]
  },
  {
   "cell_type": "markdown",
   "metadata": {
    "slideshow": {
     "slide_type": "notes"
    }
   },
   "source": [
    "Both TAGML transcriptions are merged in Alexandria. Usually, the users would not check out the \"master file\" but if they would, it would look something like this:"
   ]
  },
  {
   "cell_type": "markdown",
   "metadata": {},
   "source": [
    "# Astrid + Bram\n",
    "\n",
    "```\n",
    "[page|+A>\n",
    "[p|+B>\n",
    "[p|+C>\n",
    "[line>[l>2nd. Voice from the Springs.<l]<line]\n",
    "[line>[l>Thrice three hundred thousand years<l]<line]\n",
    "[line>[l>We had been stained with bitter blood<l]<line]\n",
    "<p|C]\n",
    "<page|A]\n",
    "[page|A>\n",
    "[p|C>\n",
    "[line>[l>And had ran mute 'mid shrieks of slaughter<l]<line]\n",
    "[line>[l>Thro' a city and a multitude<l]<line]\n",
    "<p|B]\n",
    "<p|C]\n",
    "<page|A]\n",
    "```"
   ]
  },
  {
   "cell_type": "markdown",
   "metadata": {
    "slideshow": {
     "slide_type": "notes"
    }
   },
   "source": [
    " It may be clear that, in order to properly manage multiple transcriptions with multiple layers, properly documenting transcriptions is key. If we go back to the statement that adding markup is \"making explicit what is implicit\", we can say that this explicitness exists on several levels. Not only within the _text_, but also in the form of metadata and additional documenting files. "
   ]
  },
  {
   "cell_type": "markdown",
   "metadata": {
    "slideshow": {
     "slide_type": "slide"
    }
   },
   "source": [
    "# Conclusion\n",
    "\n",
    "### Text is a multilayered, non-linear object\n",
    "### The information can be ordered, partially ordered, or unordered "
   ]
  },
  {
   "cell_type": "markdown",
   "metadata": {
    "slideshow": {
     "slide_type": "fragment"
    }
   },
   "source": [
    "### TAGML allows for the formal description of textual features"
   ]
  },
  {
   "cell_type": "markdown",
   "metadata": {
    "slideshow": {
     "slide_type": "slide"
    }
   },
   "source": [
    "# Discussion"
   ]
  },
  {
   "cell_type": "markdown",
   "metadata": {
    "slideshow": {
     "slide_type": "subslide"
    }
   },
   "source": [
    "How do we handle the merge of TAG files? Do we consider changes in markup as additions or replacements?"
   ]
  },
  {
   "cell_type": "markdown",
   "metadata": {
    "slideshow": {
     "slide_type": "fragment"
    }
   },
   "source": [
    "`[l>` to `[line>`"
   ]
  },
  {
   "cell_type": "markdown",
   "metadata": {
    "slideshow": {
     "slide_type": "subslide"
    }
   },
   "source": [
    "Is the source text part of a perspective or not? In other words, is a perspective only the markup or also the source text? "
   ]
  },
  {
   "cell_type": "markdown",
   "metadata": {
    "slideshow": {
     "slide_type": "subslide"
    }
   },
   "source": [
    "<img src=\"images/Selection-22v.png\">"
   ]
  },
  {
   "cell_type": "markdown",
   "metadata": {
    "slideshow": {
     "slide_type": "fragment"
    }
   },
   "source": [
    "View material:  \n",
    "`<|[sic>slaugter<sic]|[corr>slaughter<corr]|>`\n",
    "\n",
    "View poetic:  \n",
    "`[rhyme>slaughter<rhyme]`"
   ]
  },
  {
   "cell_type": "markdown",
   "metadata": {
    "slideshow": {
     "slide_type": "notes"
    }
   },
   "source": [
    "# Extra slides"
   ]
  },
  {
   "cell_type": "markdown",
   "metadata": {
    "slideshow": {
     "slide_type": "slide"
    }
   },
   "source": [
    "```\n",
    "[page|+A>\n",
    "    [p|+B>\n",
    "    [p|+C>\n",
    "        [line>2d. Voice from the Springs<line]\n",
    "        [line>Thrice three hundred thousand years<line]\n",
    "        [line>We had been stained with bitter blood<line]\n",
    "    <p|C]\n",
    "<page]\n",
    "[page>\n",
    "    [p|C>\n",
    "        [line>And had ran mute 'mid shrieks of slaughter<line]\n",
    "        [line>Thro' a city and a multitude<line]\n",
    "    <p|B]\n",
    "    <p|C]\n",
    "<page|A]\n",
    "```"
   ]
  },
  {
   "cell_type": "markdown",
   "metadata": {
    "slideshow": {
     "slide_type": "slide"
    }
   },
   "source": [
    "# References\n",
    "\n",
    "- Alexandria. https://github.com/HuygensING/alexandria-markup ; Information about installing and using the Alexandria command line app is available at links on the TAG portal at https://github.com/HuygensING/TAG.\n",
    "- Gengnagel, T. 2015. \"Marking Up Iconography: Scholarly Editions Beyond Text,\" in: parergon, 06/11/2015, https://parergon.hypotheses.org/40.\n",
    "- Haentjens Dekker, R. & Birnbaum, D.J. 2017. \"It’s more than just overlap: Text As Graph\". In _Proceedings of Balisage: The Markup Conference 201. Balisage Series on Markup Technologies_, vol. 19. doi:10.4242/BalisageVol19.Dekker01. https://www.balisage.net/Proceedings/vol19/html/Dekker01/BalisageVol19-Dekker01.html\n",
    "- Hajo, C. M. 2010. \"The sustainability of the scholarly edition in a digital world\". In _Proceedings of the International Symposium on XML for the Long Haul: Issues in the Long-term Preservation of XML_. Balisage Series on Markup Technologies, vol. 6. doi:10.4242/BalisageVol6.Hajo01.\n",
    "- Hillesund, T. 2005. \"Digital Text Cycles: From Medieval Manuscripts to Modern Markup\". In _Journal of Digital Information_ 6:1. https://journals.tdl.org/jodi/index.php/jodi/article/view/62/65.\n",
    "- Panofsky, E. 1932/1964. \"Zum Problem der Beschreibung und Inhaltsdeutung von Werken der bildenden Kunst\" in _Ikonographie und Ikonologie: Theorien, Entwicklung, Probleme (Bildende Kunst als Zeichensystem; vol. 1)_, ed. by Ekkehard Kaemmerling, Köln 1979, pp.185-206.\n",
    "- Renear, A. H., Mylonas, E., & Durand, D. 1993. \"Refining our notion of what text really is: The problem of overlapping hierarchies\". https://www.ideals.illinois.edu/bitstream/handle/2142/9407/RefiningOurNotion.pdf?sequence=2&isAllowed=y\n",
    "- Sahle, P. 2013. _Digitale Editionsformen-Teil 3: Textbegriffe Und Recodierung_. Norderstedt: Books on Demand. http://kups.ub.uni-koeln.de/5353/\n",
    "- Shelley, P. B. \"Prometheus Unbound, Act I\", in The Shelley-Godwin Archive, MS. Shelley e. 1, 21v. Retrieved from http://shelleygodwinarchive.org/sc/oxford/prometheus_unbound/act/i/#/p7 \n",
    "- Shillingsburg, P. 2014. \"From physical to digital textuality: Loss and gain in literary projects\". In _CEA Critic_ 76:2, pp.158-168."
   ]
  },
  {
   "cell_type": "code",
   "execution_count": null,
   "metadata": {},
   "outputs": [],
   "source": []
  }
 ],
 "metadata": {
  "celltoolbar": "Slideshow",
  "kernelspec": {
   "display_name": "Python 3",
   "language": "python",
   "name": "python3"
  },
  "language_info": {
   "codemirror_mode": {
    "name": "ipython",
    "version": 3
   },
   "file_extension": ".py",
   "mimetype": "text/x-python",
   "name": "python",
   "nbconvert_exporter": "python",
   "pygments_lexer": "ipython3",
   "version": "3.6.5"
  }
 },
 "nbformat": 4,
 "nbformat_minor": 2
}
