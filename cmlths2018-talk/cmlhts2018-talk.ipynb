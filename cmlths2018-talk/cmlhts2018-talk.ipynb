{
 "cells": [
  {
   "cell_type": "markdown",
   "metadata": {
    "slideshow": {
     "slide_type": "slide"
    }
   },
   "source": [
    "<div align=\"center\"><h2>Perspectives on Text</h2>\n",
    "<br/>\n",
    "<h3>_Synthesizing knowledge through markup_</h3>\n",
    "<br/>\n",
    "<h4>Elli Bleeker, Bram Buitendijk, Ronald Haentjens Dekker, Astrid Kulsdom</h4>\n",
    "<h5>R&amp;D - Dutch Royal Academy of Arts and Science</h5>\n",
    "</div>\n",
    "     "
   ]
  },
  {
   "cell_type": "markdown",
   "metadata": {
    "slideshow": {
     "slide_type": "notes"
    }
   },
   "source": [
    "This talk is not a simple \"me and my project\"-presentation. Instead I'd like to the topic of computational text modeling by focusing on one instrument: markup.\n",
    "\n",
    "Markup is cool! It is an instrument to express our understanding of a text to a computer so we can probe that text further, have others probe it, store it and represent it."
   ]
  },
  {
   "cell_type": "markdown",
   "metadata": {
    "slideshow": {
     "slide_type": "subslide"
    }
   },
   "source": [
    "### Theory\n",
    " Definition of text  \n",
    " Expectations of markup; challenges  \n",
    "### Practice\n",
    "   TAGML  \n",
    "   Editorial workflow    \n",
    "### Conclusion\n",
    "### Discussion"
   ]
  },
  {
   "cell_type": "markdown",
   "metadata": {
    "slideshow": {
     "slide_type": "slide"
    }
   },
   "source": [
    "# Theory"
   ]
  },
  {
   "cell_type": "markdown",
   "metadata": {
    "slideshow": {
     "slide_type": "notes"
    }
   },
   "source": [
    "Before we go on, let's take a closer look at what we're dealing with, exactly. As this is the Computational Methods for Literary-Historical Textual Scholarship, I assume we are primarily working with textual objects.\n",
    "\n",
    "\"Text\" has been defined over and over again (see all the publications about \"what text is, really\") but we propose the following definition that is both very precise and inclusive and takes into account all textual features that textual scholars are interested in."
   ]
  },
  {
   "cell_type": "markdown",
   "metadata": {
    "slideshow": {
     "slide_type": "slide"
    }
   },
   "source": [
    "# What is text?\n",
    "\n",
    "A multilayered, non-linear object containing information which is at times ordered, partially ordered, or unordered"
   ]
  },
  {
   "cell_type": "markdown",
   "metadata": {
    "slideshow": {
     "slide_type": "notes"
    }
   },
   "source": [
    "I'll give three examples of textual features and how they translate informationally."
   ]
  },
  {
   "cell_type": "markdown",
   "metadata": {
    "slideshow": {
     "slide_type": "slide"
    }
   },
   "source": [
    "# Modeling textual features \n",
    "\n",
    "- Overlapping structures  \n",
    "- Discontinuous elements  \n",
    "- Non-linear elements"
   ]
  },
  {
   "cell_type": "markdown",
   "metadata": {
    "slideshow": {
     "slide_type": "subslide"
    }
   },
   "source": [
    "# Overlapping structures\n",
    "<img src=\"images/Selection-21v.png\">\n",
    "<img src=\"images/Selection-22v.png\">"
   ]
  },
  {
   "cell_type": "markdown",
   "metadata": {
    "slideshow": {
     "slide_type": "subslide"
    }
   },
   "source": [
    "# Discontinuous elements\n",
    "\n",
    "<img width=\"900\" height=\"500\" src=\"images/discontinuity.png\">"
   ]
  },
  {
   "cell_type": "markdown",
   "metadata": {
    "slideshow": {
     "slide_type": "fragment"
    }
   },
   "source": [
    "<img width=\"300\" height=\"300\" src=\"images/order.jpg\">"
   ]
  },
  {
   "cell_type": "markdown",
   "metadata": {
    "slideshow": {
     "slide_type": "subslide"
    }
   },
   "source": [
    "# Non-linear structures\n",
    "<img width=\"500\" height=\"500\" src=\"images/code-nonlinear.png\">"
   ]
  },
  {
   "cell_type": "markdown",
   "metadata": {
    "slideshow": {
     "slide_type": "subslide"
    }
   },
   "source": [
    "<img align=\"left\" width=\"500\" height=\"300\" src=\"images/order1a.png\">\n",
    "<img align=\"right\" width=\"500\" height=\"300\" src=\"images/order1b.png\">"
   ]
  },
  {
   "cell_type": "markdown",
   "metadata": {
    "slideshow": {
     "slide_type": "notes"
    }
   },
   "source": [
    "Now, let's move on to markup. The aims or \"potential\" of markup is twofold:   "
   ]
  },
  {
   "cell_type": "markdown",
   "metadata": {
    "slideshow": {
     "slide_type": "subslide"
    }
   },
   "source": [
    "# Markup\n",
    "- Markup helps us to **make explicit implicit notions and interpretations**\n",
    "- Markup **unites scholarly knowledge** "
   ]
  },
  {
   "cell_type": "markdown",
   "metadata": {
    "slideshow": {
     "slide_type": "notes"
    }
   },
   "source": [
    "I don't have to tell you that these promises are not, at least not entirely, fulfilled. "
   ]
  },
  {
   "cell_type": "markdown",
   "metadata": {
    "slideshow": {
     "slide_type": "notes"
    }
   },
   "source": [
    "Current markup technology do not permit us to do so, or better: they don't facilitate it in a straightforward manner. \n",
    "- Simple texts do fit into one hierarchy, but the moment one wants to tag more complex phenomena one has to resort to workarounds. Which work, but they do remain workarounds.\n",
    "- Transcriptions are usually made on a project basis / idiosyncratic approaches. No shared conception of digital editing. \n"
   ]
  },
  {
   "cell_type": "markdown",
   "metadata": {
    "slideshow": {
     "slide_type": "notes"
    }
   },
   "source": [
    "Let's start with the first point. The moment I mention hierarchies, your mind will automatically spring to \"overlap\". \n",
    "\n",
    "Indeed, we can make explicit our understanding of text but the moment we structure a textual object a certain way, there'll be many elements that do not fit into that structure. The easiest example is that of:"
   ]
  },
  {
   "cell_type": "markdown",
   "metadata": {
    "slideshow": {
     "slide_type": "slide"
    }
   },
   "source": [
    "Logical structure vs. document structure "
   ]
  },
  {
   "cell_type": "markdown",
   "metadata": {
    "slideshow": {
     "slide_type": "fragment"
    }
   },
   "source": [
    "<img src=\"images/Selection-21v.png\">\n",
    "<img src=\"images/Selection-22v.png\">"
   ]
  },
  {
   "cell_type": "markdown",
   "metadata": {
    "slideshow": {
     "slide_type": "notes"
    }
   },
   "source": [
    "There are, of course, an infinite amount of structures, as illustrated by the long list of analytical perspectives on text by Allan Renear _et al_. Each of these perspectives implies a different structuring and ordering of the text."
   ]
  },
  {
   "cell_type": "markdown",
   "metadata": {
    "slideshow": {
     "slide_type": "slide"
    }
   },
   "source": [
    "\"Analytical perspectives on text\" (Renear _et al_. 1993):\n",
    "\n",
    "- dramatic: act, scene, stage directions, speech\n",
    "- poetic: poem, verse, stanza, quatrain, couplet, line, half-line, foot\n",
    "- syntactic: sentence, noun phrase, verb phrase, determiner, adjective, noun, verb\n",
    "- etc..."
   ]
  },
  {
   "cell_type": "markdown",
   "metadata": {
    "slideshow": {
     "slide_type": "notes"
    }
   },
   "source": [
    "The second point, bringing together scholarly knowledge in one file that can be used and reused by others, has also been proven quite unfeasible by our diverging scholarly practices."
   ]
  },
  {
   "cell_type": "markdown",
   "metadata": {
    "slideshow": {
     "slide_type": "slide"
    }
   },
   "source": [
    "<div class=\"quote\" align=\"center\">_\"Most texts are made for a special use in a specific context for a limited group of people\"_</div><br/><div class=\"source\" align=\"center\">(Hillesund 2005)</div>"
   ]
  },
  {
   "cell_type": "markdown",
   "metadata": {
    "slideshow": {
     "slide_type": "fragment"
    }
   },
   "source": [
    "<div align=\"center\">A \"_shared conception of digital editing_\" (Hajo 2010) is abandoned in favor of idiosyncratic approaches</div>"
   ]
  },
  {
   "cell_type": "markdown",
   "metadata": {
    "slideshow": {
     "slide_type": "notes"
    }
   },
   "source": [
    "This has led Erwin Palofsky to conclude, early on, that:"
   ]
  },
  {
   "cell_type": "markdown",
   "metadata": {
    "slideshow": {
     "slide_type": "fragment"
    }
   },
   "source": [
    "<div align=\"center\">A strict formal observation and with it a description of a text is a _physical impossibility_</div>"
   ]
  },
  {
   "cell_type": "markdown",
   "metadata": {
    "slideshow": {
     "slide_type": "notes"
    }
   },
   "source": [
    "Theoretically, markup is an indispensable instrument:"
   ]
  },
  {
   "cell_type": "markdown",
   "metadata": {
    "slideshow": {
     "slide_type": "slide"
    }
   },
   "source": [
    "# Markup allows us to ...\n",
    "#### ... formally describe our interpretation of text "
   ]
  },
  {
   "cell_type": "markdown",
   "metadata": {
    "slideshow": {
     "slide_type": "fragment"
    }
   },
   "source": [
    "#### ... create transcriptions that can be shared with others and processed by software"
   ]
  },
  {
   "cell_type": "markdown",
   "metadata": {
    "slideshow": {
     "slide_type": "notes"
    }
   },
   "source": [
    "Markup is a powerful technology. But:"
   ]
  },
  {
   "cell_type": "markdown",
   "metadata": {
    "slideshow": {
     "slide_type": "subslide"
    }
   },
   "source": [
    "\n",
    "# With great power comes great responsibilities.\n"
   ]
  },
  {
   "cell_type": "markdown",
   "metadata": {
    "slideshow": {
     "slide_type": "notes"
    }
   },
   "source": [
    "Apart from the fact that we have to be very conscious about the ways in which we identify and tag textual features (during which we also have to take into account how these features may be processed and addressed in later stages) we have a responsibility to keep questioning the model we use.  "
   ]
  },
  {
   "cell_type": "markdown",
   "metadata": {
    "slideshow": {
     "slide_type": "subslide"
    }
   },
   "source": [
    "<div align=\"center\"> The affordances and limitations of a textual model influence our understanding of text</div>"
   ]
  },
  {
   "cell_type": "markdown",
   "metadata": {
    "slideshow": {
     "slide_type": "notes"
    }
   },
   "source": [
    "So what happens if we step outside the framework we've all come know, and start all over again? What if we're no longer compelled to think in terms of monohierarchical structures when modeling text and instead take as point departure a model that provides *native* support for multiple hierarchies, without complicated hacks and workarounds? How would we then markup a text? "
   ]
  },
  {
   "cell_type": "markdown",
   "metadata": {
    "slideshow": {
     "slide_type": "slide"
    }
   },
   "source": [
    "# Practice"
   ]
  },
  {
   "cell_type": "markdown",
   "metadata": {
    "slideshow": {
     "slide_type": "notes"
    }
   },
   "source": [
    "In the second part of my talk, I'll introduce TAGML, the markup language we've been developing over the past few months. TAGML is based on the definition of text as a multilayered, non-linear object and addresses in a straightforward manner complex textual features like those I just described.\n",
    "\n",
    "Furthermore, we have developed a system to manage TAGML files and address both the issues of compatibility and interoperability.\n",
    "\n",
    "First, TAGML."
   ]
  },
  {
   "cell_type": "markdown",
   "metadata": {
    "slideshow": {
     "slide_type": "subslide"
    }
   },
   "source": [
    "# TAGML\n",
    "Markup language of Text-as-Graph (TAG) model  \n",
    "\n",
    "Considers **text** to be **a non-linear and multilayered information object**."
   ]
  },
  {
   "cell_type": "markdown",
   "metadata": {
    "slideshow": {
     "slide_type": "subslide"
    }
   },
   "source": [
    "A TAGML file can have multiple **layers**.  \n",
    "\n",
    "A layer is, in principle, a set of markup nodes. A layer is hierarchical."
   ]
  },
  {
   "cell_type": "markdown",
   "metadata": {
    "slideshow": {
     "slide_type": "notes"
    }
   },
   "source": [
    "How does that help us to capture various features of text, both simple and complicated? \n",
    "\n",
    "Let's focus on one of the textual features I just outlined, the most familiar one: overlapping structures. \n",
    "Imagine transcribing the poetic structure of the text on this document fragment."
   ]
  },
  {
   "cell_type": "markdown",
   "metadata": {
    "slideshow": {
     "slide_type": "slide"
    }
   },
   "source": [
    "<img src=\"images/Selection-21v.png\">\n",
    "<img src=\"images/Selection-22v.png\">"
   ]
  },
  {
   "cell_type": "markdown",
   "metadata": {
    "slideshow": {
     "slide_type": "subslide"
    }
   },
   "source": [
    "```\n",
    "[tagml>\n",
    "    [page>\n",
    "      [p>\n",
    "        [line>2d. Voice from the Springs<line]\n",
    "        [line>Thunderbolts had parched our water<line]\n",
    "        [line>We had been stained with bitter blood<line]\n",
    "      <p]\n",
    "    <page]\n",
    "    [page>\n",
    "      [p>\n",
    "        [line>And had ran mute 'mid shrieks of <|[sic>slaugter<sic]|[corr>slaughter<]|><line]\n",
    "        [line>Thro' a city & a solitude!<line]\n",
    "      <p]\n",
    "    <page]\n",
    "<tagml]\n",
    "```\n",
    "        "
   ]
  },
  {
   "cell_type": "markdown",
   "metadata": {
    "slideshow": {
     "slide_type": "notes"
    }
   },
   "source": [
    "Let's take a closer look at that last transcription. One could argue that the paragraph isn't really \"closed\", it just needs to be closed to avoid overlap with the page element. If that weren't necessary, this would be a more intuitive transcription:"
   ]
  },
  {
   "cell_type": "markdown",
   "metadata": {
    "slideshow": {
     "slide_type": "notes"
    }
   },
   "source": [
    "(In the following transcripton has been stripped of most tags for readability)"
   ]
  },
  {
   "cell_type": "markdown",
   "metadata": {
    "slideshow": {
     "slide_type": "subslide"
    }
   },
   "source": [
    "```\n",
    "[page>  \n",
    "    [p>\n",
    "      [line>2d. Voice from the Springs<line]\n",
    "      [line>Thunderbolts had parched our water<line]\n",
    "      [line>We had been stained with bitter blood<line]\n",
    "    <page]\n",
    "    [page>\n",
    "      [line>And had ran mute 'mid shrieks of slaughter<line]\n",
    "      [line>Thro' a city and a multitude!<line]\n",
    "    <p]\n",
    "<page]\n",
    "```\n"
   ]
  },
  {
   "cell_type": "markdown",
   "metadata": {
    "slideshow": {
     "slide_type": "notes"
    }
   },
   "source": [
    "This is where the multilayeredness comes in. The moment structures overlap, the user can create a new layer. A layer can be created locally. The layers may be given any name; in this example they are simply referred to as layer A and layer B."
   ]
  },
  {
   "cell_type": "markdown",
   "metadata": {
    "slideshow": {
     "slide_type": "subslide"
    }
   },
   "source": [
    "```\n",
    "[page|+A>  \n",
    "    [p|+B>\n",
    "      [line>2d. Voice from the Springs<line]\n",
    "      [line>Thunderbolts had parched our water<line]\n",
    "      [line>We had been stained with bitter blood<line]\n",
    "    <page|A]\n",
    "    [page|A>\n",
    "      [line>And had ran mute 'mid shrieks of slaughter<line]\n",
    "      [line>Thro' a city and a multitude!<line]\n",
    "    <p|B]\n",
    "<page|A]\n",
    "```"
   ]
  },
  {
   "cell_type": "markdown",
   "metadata": {
    "slideshow": {
     "slide_type": "slide"
    }
   },
   "source": [
    "# _Alexandria_\n",
    "\n",
    "- Text repository for TAGML files\n",
    "- Git-like version management\n"
   ]
  },
  {
   "cell_type": "markdown",
   "metadata": {
    "slideshow": {
     "slide_type": "notes"
    }
   },
   "source": [
    "Managing TAGML files with multiple layers is done in a repository called _Alexandria_ which stores the TAGM files. \n",
    "The workflow is similar to that of Git.\n",
    "\n",
    "Let's return to the examples I just showed, and let's imagine that the markup is added not by one, but by two editors. We'll name them A and B, or to make it more realistic, Astrid and Bram."
   ]
  },
  {
   "cell_type": "markdown",
   "metadata": {
    "slideshow": {
     "slide_type": "slide"
    }
   },
   "source": [
    "## Astrid\n",
    "```\n",
    "[page>\n",
    "    [p>\n",
    "        [line>2d. Voice from the Springs<line]\n",
    "        [line>Thrice three hundred thousand years<line]\n",
    "        [line>We had been stained with bitter blood<line]\n",
    "    <p]\n",
    "<page]\n",
    "[page>\n",
    "    [p>\n",
    "        [line>And had ran mute 'mid shrieks of <|[sic>slaugter<sic]|[corr>slaughter<corr]]><line]\n",
    "           [line>Thro' a city and a multitude<line]\n",
    "    <p]\n",
    "<page]\n",
    "```"
   ]
  },
  {
   "cell_type": "markdown",
   "metadata": {
    "slideshow": {
     "slide_type": "subslide"
    }
   },
   "source": [
    "<img width=\"500\" height=\"400\" src=\"images/astrid-alex-init.png\">"
   ]
  },
  {
   "cell_type": "markdown",
   "metadata": {
    "slideshow": {
     "slide_type": "subslide"
    }
   },
   "source": [
    "<img width=\"500\" height=\"400\" src=\"images/bram-alexandria-checkout.png\">"
   ]
  },
  {
   "cell_type": "markdown",
   "metadata": {},
   "source": [
    "## View \"material\" \n",
    "\n",
    "### Includes elements `[page>`, `[p>`, `[line>` and `[corr>`\n",
    "```\n",
    "[page>\n",
    "    [p>\n",
    "        [line>2d. Voice from the Springs<line]\n",
    "        [line>Thrice three hundred thousand years<line]\n",
    "        [line>We had been stained with bitter blood<line]\n",
    "    <p]\n",
    "<page]\n",
    "[page>\n",
    "    [p>\n",
    "        [line>And had ran mute 'mid shrieks of slaughter<line]\n",
    "           [line>Thro' a city and a multitude<line]\n",
    "    <p]\n",
    "<page]\n",
    "```"
   ]
  },
  {
   "cell_type": "markdown",
   "metadata": {
    "slideshow": {
     "slide_type": "slide"
    }
   },
   "source": [
    "## Bram\n",
    "```\n",
    "[page|+A>\n",
    "    [p|+B>\n",
    "        [l>2d. Voice from the Springs<l]\n",
    "        [l>Thrice three hundred thousand years<l]\n",
    "        [l>We had been stained with bitter blood<l]\n",
    "<page|A]\n",
    "[page|A>\n",
    "        [l>And had ran mute 'mid shrieks of [corr>slaughter<corr]<l]\n",
    "        [l>Thro' a city & a multitude<l]\n",
    "    <p|B]\n",
    "<page|A]\n",
    "```\n"
   ]
  },
  {
   "cell_type": "markdown",
   "metadata": {
    "slideshow": {
     "slide_type": "notes"
    }
   },
   "source": [
    "Both TAGML transcriptions are merged in Alexandria. Usually, the users would not check out the \"master file\" but if they would, it would look something like this:"
   ]
  },
  {
   "cell_type": "markdown",
   "metadata": {
    "slideshow": {
     "slide_type": "slide"
    }
   },
   "source": [
    "# Astrid + Bram\n",
    "\n",
    "```\n",
    "[page|+A>\n",
    "    [p|+B>\n",
    "    [p|+C>\n",
    "        [line>[l>2nd. Voice from the Springs.<l]<line]\n",
    "        [line>[l>Thrice three hundred thousand years<l]<line]\n",
    "        [line>[l>We had been stained with bitter blood<l]<line]\n",
    "    <p|C]\n",
    "<page|A]\n",
    "[page|A>\n",
    "    [p|C>\n",
    "        [line>[l>And had ran mute 'mid shrieks of <|[sic|C>slaugter<sic|C]|[corr>slaughter<corr]|><l]<line]\n",
    "        [line>[l>Thro' a city and a multitude<l]<line]\n",
    "    <p|B]\n",
    "    <p|C]\n",
    "<page|A]\n",
    "```"
   ]
  },
  {
   "cell_type": "markdown",
   "metadata": {
    "slideshow": {
     "slide_type": "notes"
    }
   },
   "source": [
    " It may be clear that, in order to properly manage multiple transcriptions with multiple layers, properly documenting transcriptions is key. If we go back to the statement that adding markup is \"making explicit what is implicit\", we can say that this explicitness exists on several levels. Not only within the _text_, but also in the form of metadata and additional documenting files. "
   ]
  },
  {
   "cell_type": "markdown",
   "metadata": {
    "slideshow": {
     "slide_type": "slide"
    }
   },
   "source": [
    "# Conclusion"
   ]
  },
  {
   "cell_type": "markdown",
   "metadata": {
    "slideshow": {
     "slide_type": "subslide"
    }
   },
   "source": [
    "# Text\n",
    "\n",
    "- Text is a multilayered, non-linear object\n",
    "- The information can be ordered, partially ordered, or unordered "
   ]
  },
  {
   "cell_type": "markdown",
   "metadata": {
    "slideshow": {
     "slide_type": "subslide"
    }
   },
   "source": [
    "# Markup\n",
    "\n",
    "1. Overlap\n",
    "2. Discontinuity\n",
    "3. Non-linearity\n",
    "4. Compatible  \n",
    "    a. Interoperable  \n",
    "    b. Reusable\n",
    "    \n",
    "\"Natural\" or idiomatic: the model needs to be close to our understanding of text"
   ]
  },
  {
   "cell_type": "markdown",
   "metadata": {
    "slideshow": {
     "slide_type": "subslide"
    }
   },
   "source": [
    "# TAGML \n",
    "\n",
    "... formal description of complex textual features in a straightforward manner"
   ]
  },
  {
   "cell_type": "markdown",
   "metadata": {
    "slideshow": {
     "slide_type": "subslide"
    }
   },
   "source": [
    "# Alexandria\n",
    "... stores and manages TAGML files"
   ]
  },
  {
   "cell_type": "markdown",
   "metadata": {
    "slideshow": {
     "slide_type": "slide"
    }
   },
   "source": [
    "# Discussion"
   ]
  },
  {
   "cell_type": "markdown",
   "metadata": {
    "slideshow": {
     "slide_type": "subslide"
    }
   },
   "source": [
    "How do we handle the merge of TAG files? Do we consider changes in markup as additions or replacements?"
   ]
  },
  {
   "cell_type": "markdown",
   "metadata": {
    "slideshow": {
     "slide_type": "fragment"
    }
   },
   "source": [
    "`[l>` to `[line>`"
   ]
  },
  {
   "cell_type": "markdown",
   "metadata": {
    "slideshow": {
     "slide_type": "subslide"
    }
   },
   "source": [
    "Is the source text part of a perspective or not? In other words, is a perspective only the markup or also the source text? "
   ]
  },
  {
   "cell_type": "markdown",
   "metadata": {
    "slideshow": {
     "slide_type": "subslide"
    }
   },
   "source": [
    "<img src=\"images/Selection-22v.png\">"
   ]
  },
  {
   "cell_type": "markdown",
   "metadata": {
    "slideshow": {
     "slide_type": "fragment"
    }
   },
   "source": [
    "View material:  \n",
    "`<|[sic>slaugter<sic]|[corr>slaughter<corr]|>`\n",
    "\n",
    "View poetic:  \n",
    "`[rhyme>slaughter<rhyme]`"
   ]
  },
  {
   "cell_type": "markdown",
   "metadata": {
    "slideshow": {
     "slide_type": "slide"
    }
   },
   "source": [
    "# Some extra slides\n",
    "## Just in case ..."
   ]
  },
  {
   "cell_type": "markdown",
   "metadata": {
    "slideshow": {
     "slide_type": "slide"
    }
   },
   "source": [
    "# TAG\n",
    "Data model: non-uniform cyclic property hypergraph of text\n",
    "\n",
    "- Document Node\n",
    "- Text Nodes\n",
    "- Markup Nodes\n",
    "- Annotation Nodes\n",
    "\n",
    "<img align=\"center\" width=\"300\" height=\"200\" src=\"images/hypergraph-general.png\">"
   ]
  },
  {
   "cell_type": "markdown",
   "metadata": {
    "slideshow": {
     "slide_type": "slide"
    }
   },
   "source": [
    "<img align=\"center\" width=\"600\" height=\"600\" src=\"images/hypergraph.png\">"
   ]
  },
  {
   "cell_type": "markdown",
   "metadata": {
    "slideshow": {
     "slide_type": "slide"
    }
   },
   "source": [
    "```\n",
    "[page|+A>\n",
    "    [p|+B>\n",
    "    [p|+C>\n",
    "        [line>2d. Voice from the Springs<line]\n",
    "        [line>Thrice three hundred thousand years<line]\n",
    "        [line>We had been stained with bitter blood<line]\n",
    "    <p|C]\n",
    "<page]\n",
    "[page>\n",
    "    [p|C>\n",
    "        [line>And had ran mute 'mid shrieks of slaughter<line]\n",
    "        [line>Thro' a city and a multitude<line]\n",
    "    <p|B]\n",
    "    <p|C]\n",
    "<page|A]\n",
    "```"
   ]
  },
  {
   "cell_type": "markdown",
   "metadata": {
    "slideshow": {
     "slide_type": "slide"
    }
   },
   "source": [
    "# References\n",
    "\n",
    "- Alexandria. https://github.com/HuygensING/alexandria-markup. Information about installing and using the Alexandria command line app is available at links on the TAG portal at https://github.com/HuygensING/TAG.\n",
    "- Gengnagel, T. 2015. \"Marking Up Iconography: Scholarly Editions Beyond Text,\" in: parergon, 06/11/2015, https://parergon.hypotheses.org/40.\n",
    "- Haentjens Dekker, R. & Birnbaum, D.J. 2017. \"It’s more than just overlap: Text As Graph\". In _Proceedings of Balisage: The Markup Conference 201. Balisage Series on Markup Technologies_, vol. 19. doi:10.4242/BalisageVol19.Dekker01. https://www.balisage.net/Proceedings/vol19/html/Dekker01/BalisageVol19-Dekker01.html\n",
    "- Hajo, C. M. 2010. \"The sustainability of the scholarly edition in a digital world\". In _Proceedings of the International Symposium on XML for the Long Haul: Issues in the Long-term Preservation of XML_. Balisage Series on Markup Technologies, vol. 6. doi:10.4242/BalisageVol6.Hajo01.\n",
    "- Hillesund, T. 2005. \"Digital Text Cycles: From Medieval Manuscripts to Modern Markup\". In _Journal of Digital Information_ 6:1. https://journals.tdl.org/jodi/index.php/jodi/article/view/62/65.\n",
    "- Panofsky, E. 1932/1964. \"Zum Problem der Beschreibung und Inhaltsdeutung von Werken der bildenden Kunst\" in _Ikonographie und Ikonologie: Theorien, Entwicklung, Probleme (Bildende Kunst als Zeichensystem; vol. 1)_, ed. by Ekkehard Kaemmerling, Köln 1979, pp.185-206.\n",
    "- Renear, A. H., Mylonas, E., & Durand, D. 1993. \"Refining our notion of what text really is: The problem of overlapping hierarchies\". https://www.ideals.illinois.edu/bitstream/handle/2142/9407/RefiningOurNotion.pdf?sequence=2&isAllowed=y\n",
    "- Sahle, P. 2013. _Digitale Editionsformen-Teil 3: Textbegriffe Und Recodierung_. Norderstedt: Books on Demand. http://kups.ub.uni-koeln.de/5353/\n",
    "- Shelley, P. B. \"Prometheus Unbound, Act I\", in The Shelley-Godwin Archive, MS. Shelley e. 1, 21v. Retrieved from http://shelleygodwinarchive.org/sc/oxford/prometheus_unbound/act/i/#/p7 \n",
    "- Shillingsburg, P. 2014. \"From physical to digital textuality: Loss and gain in literary projects\". In _CEA Critic_ 76:2, pp.158-168."
   ]
  }
 ],
 "metadata": {
  "celltoolbar": "Slideshow",
  "kernelspec": {
   "display_name": "Python 3",
   "language": "python",
   "name": "python3"
  },
  "language_info": {
   "codemirror_mode": {
    "name": "ipython",
    "version": 3
   },
   "file_extension": ".py",
   "mimetype": "text/x-python",
   "name": "python",
   "nbconvert_exporter": "python",
   "pygments_lexer": "ipython3",
   "version": "3.6.5"
  }
 },
 "nbformat": 4,
 "nbformat_minor": 2
}
